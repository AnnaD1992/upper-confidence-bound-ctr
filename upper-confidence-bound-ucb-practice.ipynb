{
 "cells": [
  {
   "cell_type": "markdown",
   "id": "f46e24ae",
   "metadata": {
    "id": "QJdrJJQUv3-k",
    "papermill": {
     "duration": 0.010287,
     "end_time": "2021-08-12T09:18:33.623154",
     "exception": false,
     "start_time": "2021-08-12T09:18:33.612867",
     "status": "completed"
    },
    "tags": []
   },
   "source": [
    "# Upper Confidence Bound (UCB)"
   ]
  },
  {
   "cell_type": "markdown",
   "id": "0ea6bb50",
   "metadata": {
    "id": "2XCjepjJwEv-",
    "papermill": {
     "duration": 0.008889,
     "end_time": "2021-08-12T09:18:33.641562",
     "exception": false,
     "start_time": "2021-08-12T09:18:33.632673",
     "status": "completed"
    },
    "tags": []
   },
   "source": [
    "## Importing the libraries"
   ]
  },
  {
   "cell_type": "code",
   "execution_count": 1,
   "id": "0fca6eb0",
   "metadata": {
    "execution": {
     "iopub.execute_input": "2021-08-12T09:18:33.664265Z",
     "iopub.status.busy": "2021-08-12T09:18:33.663071Z",
     "iopub.status.idle": "2021-08-12T09:18:33.673653Z",
     "shell.execute_reply": "2021-08-12T09:18:33.674220Z",
     "shell.execute_reply.started": "2021-08-12T09:17:23.863649Z"
    },
    "id": "l_mBkG3YwNTt",
    "papermill": {
     "duration": 0.023665,
     "end_time": "2021-08-12T09:18:33.674512",
     "exception": false,
     "start_time": "2021-08-12T09:18:33.650847",
     "status": "completed"
    },
    "tags": []
   },
   "outputs": [],
   "source": [
    "import pandas as pd\n",
    "import numpy as np\n",
    "import matplotlib.pyplot as plt\n",
    "import os\n",
    "import math\n",
    "\n"
   ]
  },
  {
   "cell_type": "markdown",
   "id": "69063032",
   "metadata": {
    "id": "npqlXjaNwYTv",
    "papermill": {
     "duration": 0.009031,
     "end_time": "2021-08-12T09:18:33.692980",
     "exception": false,
     "start_time": "2021-08-12T09:18:33.683949",
     "status": "completed"
    },
    "tags": []
   },
   "source": [
    "## Importing the dataset"
   ]
  },
  {
   "cell_type": "code",
   "execution_count": 2,
   "id": "3009e7a8",
   "metadata": {
    "execution": {
     "iopub.execute_input": "2021-08-12T09:18:33.714593Z",
     "iopub.status.busy": "2021-08-12T09:18:33.713965Z",
     "iopub.status.idle": "2021-08-12T09:18:33.859695Z",
     "shell.execute_reply": "2021-08-12T09:18:33.859020Z",
     "shell.execute_reply.started": "2021-08-12T09:17:23.887809Z"
    },
    "id": "HMJfUVLVwcFc",
    "papermill": {
     "duration": 0.157479,
     "end_time": "2021-08-12T09:18:33.859878",
     "exception": false,
     "start_time": "2021-08-12T09:18:33.702399",
     "status": "completed"
    },
    "tags": []
   },
   "outputs": [
    {
     "name": "stdout",
     "output_type": "stream",
     "text": [
      "/kaggle/input/ads-ctr-optimisation/Ads_CTR_Optimisation.csv\n"
     ]
    },
    {
     "data": {
      "text/html": [
       "<div>\n",
       "<style scoped>\n",
       "    .dataframe tbody tr th:only-of-type {\n",
       "        vertical-align: middle;\n",
       "    }\n",
       "\n",
       "    .dataframe tbody tr th {\n",
       "        vertical-align: top;\n",
       "    }\n",
       "\n",
       "    .dataframe thead th {\n",
       "        text-align: right;\n",
       "    }\n",
       "</style>\n",
       "<table border=\"1\" class=\"dataframe\">\n",
       "  <thead>\n",
       "    <tr style=\"text-align: right;\">\n",
       "      <th></th>\n",
       "      <th>Ad 1</th>\n",
       "      <th>Ad 2</th>\n",
       "      <th>Ad 3</th>\n",
       "      <th>Ad 4</th>\n",
       "      <th>Ad 5</th>\n",
       "      <th>Ad 6</th>\n",
       "      <th>Ad 7</th>\n",
       "      <th>Ad 8</th>\n",
       "      <th>Ad 9</th>\n",
       "      <th>Ad 10</th>\n",
       "    </tr>\n",
       "  </thead>\n",
       "  <tbody>\n",
       "    <tr>\n",
       "      <th>0</th>\n",
       "      <td>1</td>\n",
       "      <td>0</td>\n",
       "      <td>0</td>\n",
       "      <td>0</td>\n",
       "      <td>1</td>\n",
       "      <td>0</td>\n",
       "      <td>0</td>\n",
       "      <td>0</td>\n",
       "      <td>1</td>\n",
       "      <td>0</td>\n",
       "    </tr>\n",
       "    <tr>\n",
       "      <th>1</th>\n",
       "      <td>0</td>\n",
       "      <td>0</td>\n",
       "      <td>0</td>\n",
       "      <td>0</td>\n",
       "      <td>0</td>\n",
       "      <td>0</td>\n",
       "      <td>0</td>\n",
       "      <td>0</td>\n",
       "      <td>1</td>\n",
       "      <td>0</td>\n",
       "    </tr>\n",
       "    <tr>\n",
       "      <th>2</th>\n",
       "      <td>0</td>\n",
       "      <td>0</td>\n",
       "      <td>0</td>\n",
       "      <td>0</td>\n",
       "      <td>0</td>\n",
       "      <td>0</td>\n",
       "      <td>0</td>\n",
       "      <td>0</td>\n",
       "      <td>0</td>\n",
       "      <td>0</td>\n",
       "    </tr>\n",
       "    <tr>\n",
       "      <th>3</th>\n",
       "      <td>0</td>\n",
       "      <td>1</td>\n",
       "      <td>0</td>\n",
       "      <td>0</td>\n",
       "      <td>0</td>\n",
       "      <td>0</td>\n",
       "      <td>0</td>\n",
       "      <td>1</td>\n",
       "      <td>0</td>\n",
       "      <td>0</td>\n",
       "    </tr>\n",
       "    <tr>\n",
       "      <th>4</th>\n",
       "      <td>0</td>\n",
       "      <td>0</td>\n",
       "      <td>0</td>\n",
       "      <td>0</td>\n",
       "      <td>0</td>\n",
       "      <td>0</td>\n",
       "      <td>0</td>\n",
       "      <td>0</td>\n",
       "      <td>0</td>\n",
       "      <td>0</td>\n",
       "    </tr>\n",
       "  </tbody>\n",
       "</table>\n",
       "</div>"
      ],
      "text/plain": [
       "   Ad 1  Ad 2  Ad 3  Ad 4  Ad 5  Ad 6  Ad 7  Ad 8  Ad 9  Ad 10\n",
       "0     1     0     0     0     1     0     0     0     1      0\n",
       "1     0     0     0     0     0     0     0     0     1      0\n",
       "2     0     0     0     0     0     0     0     0     0      0\n",
       "3     0     1     0     0     0     0     0     1     0      0\n",
       "4     0     0     0     0     0     0     0     0     0      0"
      ]
     },
     "execution_count": 2,
     "metadata": {},
     "output_type": "execute_result"
    }
   ],
   "source": [
    "for dirname, _, filenames in os.walk('/kaggle/input'):\n",
    "    for filename in filenames:\n",
    "        print(os.path.join(dirname, filename))\n",
    "        \n",
    "dataset = pd.read_csv('/kaggle/input/ads-ctr-optimisation/Ads_CTR_Optimisation.csv')\n",
    "dataset.head()\n",
    "## Goal: to figure out which ad that has the highest conversion rate"
   ]
  },
  {
   "cell_type": "markdown",
   "id": "d1f070c4",
   "metadata": {
    "id": "PaSbots_wfoB",
    "papermill": {
     "duration": 0.010081,
     "end_time": "2021-08-12T09:18:33.880435",
     "exception": false,
     "start_time": "2021-08-12T09:18:33.870354",
     "status": "completed"
    },
    "tags": []
   },
   "source": [
    "## Implementing UCB"
   ]
  },
  {
   "cell_type": "code",
   "execution_count": 3,
   "id": "0ea126cb",
   "metadata": {
    "execution": {
     "iopub.execute_input": "2021-08-12T09:18:33.907185Z",
     "iopub.status.busy": "2021-08-12T09:18:33.906156Z",
     "iopub.status.idle": "2021-08-12T09:18:33.909640Z",
     "shell.execute_reply": "2021-08-12T09:18:33.909055Z",
     "shell.execute_reply.started": "2021-08-12T09:17:24.035185Z"
    },
    "id": "V1K7jgDFwkRd",
    "papermill": {
     "duration": 0.019158,
     "end_time": "2021-08-12T09:18:33.909833",
     "exception": false,
     "start_time": "2021-08-12T09:18:33.890675",
     "status": "completed"
    },
    "tags": []
   },
   "outputs": [],
   "source": [
    "#N=10000 # number of rounds  the ad  has been shown \n",
    "N=600 ## OR 600, we can test different number of rounds and find the fastest way\n",
    "d=10 # number of ads\n",
    "\n",
    "ads_selected=[]\n",
    "\n",
    "number_of_selections=[0]*d ## 0, then 1. It will be incremented everytime the ad is selected [0,0,0,0,0,0,0,0,0,0]\n",
    "# Number of times the ad i was selected up to round n\n",
    "\n",
    "sum_of_rewards =[0]*d # The sum of rewards of the ad i up to round n [0,0,0,0,0,0,0,0,0,0]\n",
    "\n",
    "total_reward=0\n"
   ]
  },
  {
   "cell_type": "code",
   "execution_count": 4,
   "id": "9cef2830",
   "metadata": {
    "execution": {
     "iopub.execute_input": "2021-08-12T09:18:33.962009Z",
     "iopub.status.busy": "2021-08-12T09:18:33.958613Z",
     "iopub.status.idle": "2021-08-12T09:18:33.965498Z",
     "shell.execute_reply": "2021-08-12T09:18:33.964821Z",
     "shell.execute_reply.started": "2021-08-12T09:17:24.041990Z"
    },
    "papermill": {
     "duration": 0.043178,
     "end_time": "2021-08-12T09:18:33.965640",
     "exception": false,
     "start_time": "2021-08-12T09:18:33.922462",
     "status": "completed"
    },
    "tags": []
   },
   "outputs": [],
   "source": [
    "## Start a For-Loop up to round 10 000\n",
    "#Our Tasks:\n",
    "#- 1- Average reward of ad i up to round n\n",
    "#- 2- the Confidence Interval at round n\n",
    "#- 3- Select the ad with the highest UCB\n",
    "\n",
    "\n",
    "for n in range(0,N): # From 0 to 10000\n",
    "    ## We want to select the ad, start with the first ad\n",
    "    ad=0 ## it initializes from 0 and then it will go to the ad 1, ad 2, and so on\n",
    "    max_upper_bound=0  ## we will update this\n",
    "    \n",
    "    #Another loop to go through each ad from 1 to 10 (which is d)\n",
    "    for i in range(0,d): # n is the user\n",
    "        ## The average reward\n",
    "        if (number_of_selections[i]>0): # at least one ad has been selected, because we don't want to divide by zero\n",
    "            average_reward = sum_of_rewards[i] / number_of_selections[i]\n",
    "            \n",
    "            delta_i=math.sqrt(3/2 * math.log(n + 1)/number_of_selections[i]) ## Confidence Interval\n",
    "          \n",
    "            \n",
    "            upper_bound=average_reward+delta_i\n",
    "        else:\n",
    "            # we have to select the ad, if it was not selected\n",
    "            upper_bound=1e400 #if that ad was not selected, we select the crazy number\n",
    "            # Apparently some python trick that developers use\n",
    "            \n",
    "        if (upper_bound)>max_upper_bound: ## if the current upper_bound is bigger than the max_upper_bound we update the max_upper_bound\n",
    "            max_upper_bound=upper_bound \n",
    "            ad=i\n",
    "        # We selected the ad that has not been selected yet\n",
    "        # We selected the ad with the maximum upper_bound\n",
    "        \n",
    "    #Now we need to update everything we have (ads_Selected, numbers_of_selection, sums_of_rewards, total_reward)\n",
    "    ads_selected.append(ad)\n",
    "    number_of_selections[ad]+=1 # incrementing the selected ad by 1\n",
    "    reward=dataset.values[n, ad] #the reward for each user\n",
    "    sum_of_rewards[ad]=sum_of_rewards[ad]+reward \n",
    "    total_reward=total_reward+reward\n",
    "        \n",
    "    \n"
   ]
  },
  {
   "cell_type": "markdown",
   "id": "18d4b2c8",
   "metadata": {
    "id": "AXftWcjDwsYj",
    "papermill": {
     "duration": 0.010031,
     "end_time": "2021-08-12T09:18:33.985921",
     "exception": false,
     "start_time": "2021-08-12T09:18:33.975890",
     "status": "completed"
    },
    "tags": []
   },
   "source": [
    "## Visualising the results"
   ]
  },
  {
   "cell_type": "code",
   "execution_count": 5,
   "id": "9e80089c",
   "metadata": {
    "execution": {
     "iopub.execute_input": "2021-08-12T09:18:34.031447Z",
     "iopub.status.busy": "2021-08-12T09:18:34.030643Z",
     "iopub.status.idle": "2021-08-12T09:18:34.202067Z",
     "shell.execute_reply": "2021-08-12T09:18:34.201381Z",
     "shell.execute_reply.started": "2021-08-12T09:17:24.062849Z"
    },
    "executionInfo": {
     "elapsed": 2141,
     "status": "ok",
     "timestamp": 1586416167859,
     "user": {
      "displayName": "Hadelin de Ponteves",
      "photoUrl": "https://lh3.googleusercontent.com/a-/AOh14GhEuXdT7eQweUmRPW8_laJuPggSK6hfvpl5a6WBaA=s64",
      "userId": "15047218817161520419"
     },
     "user_tz": -240
    },
    "id": "eVyD_EDXwtkK",
    "outputId": "8cb6b886-8482-43be-e4ee-0313c17508c6",
    "papermill": {
     "duration": 0.203878,
     "end_time": "2021-08-12T09:18:34.202224",
     "exception": false,
     "start_time": "2021-08-12T09:18:33.998346",
     "status": "completed"
    },
    "tags": []
   },
   "outputs": [
    {
     "data": {
      "image/png": "[encoded data removed]",
      "text/plain": [
       "<Figure size 432x288 with 1 Axes>"
      ]
     },
     "metadata": {
      "needs_background": "light"
     },
     "output_type": "display_data"
    }
   ],
   "source": [
    "plt.hist(ads_selected)\n",
    "plt.title('Histogram of ads selections')\n",
    "plt.xlabel('Ads')\n",
    "plt.ylabel('Number of times each ad was selected')\n",
    "plt.show()"
   ]
  },
  {
   "cell_type": "code",
   "execution_count": 6,
   "id": "c105d8f1",
   "metadata": {
    "execution": {
     "iopub.execute_input": "2021-08-12T09:18:34.227097Z",
     "iopub.status.busy": "2021-08-12T09:18:34.226458Z",
     "iopub.status.idle": "2021-08-12T09:18:34.229606Z",
     "shell.execute_reply": "2021-08-12T09:18:34.230086Z"
    },
    "papermill": {
     "duration": 0.017047,
     "end_time": "2021-08-12T09:18:34.230247",
     "exception": false,
     "start_time": "2021-08-12T09:18:34.213200",
     "status": "completed"
    },
    "tags": []
   },
   "outputs": [],
   "source": [
    "## The ad4 has the highest CTR in comparison with others"
   ]
  },
  {
   "cell_type": "code",
   "execution_count": 7,
   "id": "93a3114a",
   "metadata": {
    "execution": {
     "iopub.execute_input": "2021-08-12T09:18:34.254929Z",
     "iopub.status.busy": "2021-08-12T09:18:34.254300Z",
     "iopub.status.idle": "2021-08-12T09:18:34.257354Z",
     "shell.execute_reply": "2021-08-12T09:18:34.257883Z",
     "shell.execute_reply.started": "2021-08-12T09:17:24.226863Z"
    },
    "papermill": {
     "duration": 0.01691,
     "end_time": "2021-08-12T09:18:34.258079",
     "exception": false,
     "start_time": "2021-08-12T09:18:34.241169",
     "status": "completed"
    },
    "tags": []
   },
   "outputs": [],
   "source": [
    "## We need to experiment in which rounds we can identify\n",
    "\n",
    "# N=10000 --> N=5000\n",
    "# 500 is already hard to say, not enough to identify the best ad\n",
    "\n",
    "#600 is already better"
   ]
  }
 ],
 "metadata": {
  "kernelspec": {
   "display_name": "Python 3",
   "language": "python",
   "name": "python3"
  },
  "language_info": {
   "codemirror_mode": {
    "name": "ipython",
    "version": 3
   },
   "file_extension": ".py",
   "mimetype": "text/x-python",
   "name": "python",
   "nbconvert_exporter": "python",
   "pygments_lexer": "ipython3",
   "version": "3.7.10"
  },
  "papermill": {
   "default_parameters": {},
   "duration": 9.594236,
   "end_time": "2021-08-12T09:18:34.979136",
   "environment_variables": {},
   "exception": null,
   "input_path": "__notebook__.ipynb",
   "output_path": "__notebook__.ipynb",
   "parameters": {},
   "start_time": "2021-08-12T09:18:25.384900",
   "version": "2.3.3"
  }
 },
 "nbformat": 4,
 "nbformat_minor": 5
}
